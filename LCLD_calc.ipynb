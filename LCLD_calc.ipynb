{
 "cells": [
  {
   "cell_type": "code",
   "execution_count": 8,
   "id": "9accb861",
   "metadata": {},
   "outputs": [],
   "source": [
    "TRAIN_ARGS_FILE = 'arguments-training.tsv'\n",
    "TRAIN_LABELS_FILE = 'labels-training.tsv'\n",
    "\n",
    "def read_args_file(file_path):\n",
    "    with open(file_path, 'r', encoding='utf8') as ff:\n",
    "        arguments = []\n",
    "        for line in ff.readlines()[1:]:\n",
    "            myDict = {}\n",
    "            myDict['conclusion'] = line.strip().split('\\t')[1]\n",
    "            myDict['stance'] = line.strip().split('\\t')[2]\n",
    "            myDict['premise'] = line.strip().split('\\t')[3]\n",
    "            arguments.append(myDict)\n",
    "    return arguments\n",
    "\n",
    "def read_labels_file(file_path):\n",
    "    with open(file_path, 'r', encoding='utf8') as ff:\n",
    "        labels = []\n",
    "        for line in ff.readlines()[1:]:\n",
    "            labels.append([eval(i) for i in line.strip().split('\\t')[1:]])\n",
    "    return labels\n",
    "\n",
    "def load_train_dataset():\n",
    "    # read the datasets\n",
    "    train_args = read_args_file(TRAIN_ARGS_FILE)\n",
    "    train_labels = read_labels_file(TRAIN_LABELS_FILE)\n",
    "\n",
    "    return train_args, train_labels"
   ]
  },
  {
   "cell_type": "code",
   "execution_count": 9,
   "id": "19bf1a84",
   "metadata": {},
   "outputs": [],
   "source": [
    "train_args, train_labels = load_train_dataset()"
   ]
  },
  {
   "cell_type": "code",
   "execution_count": 11,
   "id": "461386de",
   "metadata": {},
   "outputs": [],
   "source": [
    "# LC/LD calc\n",
    "def LC_LD_calc(labels):\n",
    "    total = len(labels)\n",
    "    count = 0\n",
    "    avg = 0.0\n",
    "    for item in labels:\n",
    "        tot = 0\n",
    "        for i in item:\n",
    "            tot += i\n",
    "        count += tot\n",
    "        avg += float(tot)/len(item)\n",
    "    return float(count)/total, avg/total"
   ]
  },
  {
   "cell_type": "code",
   "execution_count": 12,
   "id": "264de50b",
   "metadata": {},
   "outputs": [],
   "source": [
    "LC, LD = LC_LD_calc(train_labels)"
   ]
  },
  {
   "cell_type": "code",
   "execution_count": 13,
   "id": "4f81a769",
   "metadata": {},
   "outputs": [
    {
     "name": "stdout",
     "output_type": "stream",
     "text": [
      "3.4262452107279695\n",
      "0.1713122605363989\n"
     ]
    }
   ],
   "source": [
    "print(LC)\n",
    "print(LD)"
   ]
  }
 ],
 "metadata": {
  "kernelspec": {
   "display_name": "Python 3 (ipykernel)",
   "language": "python",
   "name": "python3"
  },
  "language_info": {
   "codemirror_mode": {
    "name": "ipython",
    "version": 3
   },
   "file_extension": ".py",
   "mimetype": "text/x-python",
   "name": "python",
   "nbconvert_exporter": "python",
   "pygments_lexer": "ipython3",
   "version": "3.9.13"
  }
 },
 "nbformat": 4,
 "nbformat_minor": 5
}
